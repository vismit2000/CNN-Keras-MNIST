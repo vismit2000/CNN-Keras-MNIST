{
  "nbformat": 4,
  "nbformat_minor": 0,
  "metadata": {
    "colab": {
      "name": "CNN_Keras.ipynb",
      "provenance": []
    },
    "kernelspec": {
      "name": "python3",
      "display_name": "Python 3"
    },
    "accelerator": "GPU"
  },
  "cells": [
    {
      "cell_type": "code",
      "metadata": {
        "id": "6QHKwEA36dZV",
        "colab_type": "code",
        "outputId": "efcab6f8-a589-4f7e-8576-d12a5af340eb",
        "colab": {
          "base_uri": "https://localhost:8080/",
          "height": 35
        }
      },
      "source": [
        "\n",
        "from keras.layers import *\n",
        "from keras.models import Sequential"
      ],
      "execution_count": 1,
      "outputs": [
        {
          "output_type": "stream",
          "text": [
            "Using TensorFlow backend.\n"
          ],
          "name": "stderr"
        }
      ]
    },
    {
      "cell_type": "code",
      "metadata": {
        "id": "b4mRTWJe6kTt",
        "colab_type": "code",
        "outputId": "3dceda4d-aa9c-4604-9c1f-96ebee69e293",
        "colab": {
          "base_uri": "https://localhost:8080/",
          "height": 454
        }
      },
      "source": [
        "\n",
        "\n",
        "# MNIST Data - 10 Classes (0-9)\n",
        "model = Sequential()\n",
        "model.add(Conv2D(32,(3,3),activation='relu',input_shape=(28,28,1)))\n",
        "model.add(MaxPool2D((2,2)))\n",
        "model.add(Conv2D(64,(3,3),activation='relu')) \n",
        "model.add(MaxPool2D((2,2)))\n",
        "model.add(Conv2D(64,(3,3),activation='relu'))\n",
        "model.add(Flatten())\n",
        "model.add(Dense(64,activation='relu'))\n",
        "model.add(Dense(10,activation='softmax'))\n",
        "model.summary()"
      ],
      "execution_count": 2,
      "outputs": [
        {
          "output_type": "stream",
          "text": [
            "Model: \"sequential_1\"\n",
            "_________________________________________________________________\n",
            "Layer (type)                 Output Shape              Param #   \n",
            "=================================================================\n",
            "conv2d_1 (Conv2D)            (None, 26, 26, 32)        320       \n",
            "_________________________________________________________________\n",
            "max_pooling2d_1 (MaxPooling2 (None, 13, 13, 32)        0         \n",
            "_________________________________________________________________\n",
            "conv2d_2 (Conv2D)            (None, 11, 11, 64)        18496     \n",
            "_________________________________________________________________\n",
            "max_pooling2d_2 (MaxPooling2 (None, 5, 5, 64)          0         \n",
            "_________________________________________________________________\n",
            "conv2d_3 (Conv2D)            (None, 3, 3, 64)          36928     \n",
            "_________________________________________________________________\n",
            "flatten_1 (Flatten)          (None, 576)               0         \n",
            "_________________________________________________________________\n",
            "dense_1 (Dense)              (None, 64)                36928     \n",
            "_________________________________________________________________\n",
            "dense_2 (Dense)              (None, 10)                650       \n",
            "=================================================================\n",
            "Total params: 93,322\n",
            "Trainable params: 93,322\n",
            "Non-trainable params: 0\n",
            "_________________________________________________________________\n"
          ],
          "name": "stdout"
        }
      ]
    },
    {
      "cell_type": "code",
      "metadata": {
        "id": "HFE5qyIO6-hg",
        "colab_type": "code",
        "colab": {
          "base_uri": "https://localhost:8080/",
          "height": 54
        },
        "outputId": "5293097d-531d-45d6-987a-c9149d67c137"
      },
      "source": [
        "from keras.datasets import mnist\n",
        "from keras.utils import to_categorical\n",
        "\n",
        "((XTrain,YTrain),(XTest,YTest)) = mnist.load_data()"
      ],
      "execution_count": 3,
      "outputs": [
        {
          "output_type": "stream",
          "text": [
            "Downloading data from https://s3.amazonaws.com/img-datasets/mnist.npz\n",
            "11493376/11490434 [==============================] - 1s 0us/step\n"
          ],
          "name": "stdout"
        }
      ]
    },
    {
      "cell_type": "code",
      "metadata": {
        "id": "GN2tin6O8q-j",
        "colab_type": "code",
        "outputId": "c3e84627-48bc-4077-de2e-a5fe0889384d",
        "colab": {
          "base_uri": "https://localhost:8080/",
          "height": 54
        }
      },
      "source": [
        "print(XTrain.shape)\n",
        "\n",
        "def preprocess_data(X,Y):\n",
        "    X = X.reshape((-1,28,28,1))\n",
        "    X = X/255.0\n",
        "    Y = to_categorical(Y)\n",
        "    return X,Y\n",
        "\n",
        "XTrain,YTrain = preprocess_data(XTrain,YTrain)\n",
        "print(XTrain.shape,YTrain.shape)\n",
        "\n",
        "\n",
        "XTest,YTest = preprocess_data(XTest,YTest)"
      ],
      "execution_count": 4,
      "outputs": [
        {
          "output_type": "stream",
          "text": [
            "(60000, 28, 28)\n",
            "(60000, 28, 28, 1) (60000, 10)\n"
          ],
          "name": "stdout"
        }
      ]
    },
    {
      "cell_type": "code",
      "metadata": {
        "id": "y4Njzi3k945c",
        "colab_type": "code",
        "outputId": "0ae0abc5-c775-46dd-a3e2-33ef802a1c73",
        "colab": {
          "base_uri": "https://localhost:8080/",
          "height": 265
        }
      },
      "source": [
        "import matplotlib.pyplot as plt\n",
        "plt.imshow(XTrain[0].reshape((28,28)),cmap='gray')\n",
        "plt.show()\n"
      ],
      "execution_count": 5,
      "outputs": [
        {
          "output_type": "display_data",
          "data": {
            "image/png": "[encoded data removed]",
            "text/plain": [
              "<Figure size 432x288 with 1 Axes>"
            ]
          },
          "metadata": {
            "tags": [],
            "needs_background": "light"
          }
        }
      ]
    },
    {
      "cell_type": "code",
      "metadata": {
        "id": "4s4XLBOG-TSW",
        "colab_type": "code",
        "outputId": "ba5ea0b4-6f8b-4f1b-9889-cc36cb1166ba",
        "colab": {
          "base_uri": "https://localhost:8080/",
          "height": 35
        }
      },
      "source": [
        "YTrain[0]"
      ],
      "execution_count": 6,
      "outputs": [
        {
          "output_type": "execute_result",
          "data": {
            "text/plain": [
              "array([0., 0., 0., 0., 0., 1., 0., 0., 0., 0.], dtype=float32)"
            ]
          },
          "metadata": {
            "tags": []
          },
          "execution_count": 6
        }
      ]
    },
    {
      "cell_type": "code",
      "metadata": {
        "id": "JaKTGZdY-ybe",
        "colab_type": "code",
        "outputId": "32e0eb31-0f05-4efa-c62c-e8e0d327834a",
        "colab": {
          "base_uri": "https://localhost:8080/",
          "height": 763
        }
      },
      "source": [
        "model.compile(optimizer='adam',loss='categorical_crossentropy',metrics=['accuracy'])\n",
        "\n",
        "\n",
        "hist = model.fit(XTrain,YTrain,epochs=20,validation_split=0.1,batch_size=128)"
      ],
      "execution_count": 7,
      "outputs": [
        {
          "output_type": "stream",
          "text": [
            "Train on 54000 samples, validate on 6000 samples\n",
            "Epoch 1/20\n",
            "54000/54000 [==============================] - 8s 156us/step - loss: 0.2722 - accuracy: 0.9181 - val_loss: 0.0713 - val_accuracy: 0.9783\n",
            "Epoch 2/20\n",
            "54000/54000 [==============================] - 2s 40us/step - loss: 0.0660 - accuracy: 0.9802 - val_loss: 0.0451 - val_accuracy: 0.9868\n",
            "Epoch 3/20\n",
            "54000/54000 [==============================] - 2s 40us/step - loss: 0.0462 - accuracy: 0.9854 - val_loss: 0.0440 - val_accuracy: 0.9865\n",
            "Epoch 4/20\n",
            "54000/54000 [==============================] - 2s 40us/step - loss: 0.0324 - accuracy: 0.9893 - val_loss: 0.0370 - val_accuracy: 0.9883\n",
            "Epoch 5/20\n",
            "54000/54000 [==============================] - 2s 41us/step - loss: 0.0269 - accuracy: 0.9915 - val_loss: 0.0386 - val_accuracy: 0.9892\n",
            "Epoch 6/20\n",
            "54000/54000 [==============================] - 2s 41us/step - loss: 0.0223 - accuracy: 0.9925 - val_loss: 0.0337 - val_accuracy: 0.9907\n",
            "Epoch 7/20\n",
            "54000/54000 [==============================] - 2s 41us/step - loss: 0.0193 - accuracy: 0.9936 - val_loss: 0.0421 - val_accuracy: 0.9892\n",
            "Epoch 8/20\n",
            "54000/54000 [==============================] - 2s 41us/step - loss: 0.0159 - accuracy: 0.9944 - val_loss: 0.0373 - val_accuracy: 0.9905\n",
            "Epoch 9/20\n",
            "54000/54000 [==============================] - 2s 41us/step - loss: 0.0142 - accuracy: 0.9951 - val_loss: 0.0291 - val_accuracy: 0.9933\n",
            "Epoch 10/20\n",
            "54000/54000 [==============================] - 2s 40us/step - loss: 0.0111 - accuracy: 0.9963 - val_loss: 0.0352 - val_accuracy: 0.9910\n",
            "Epoch 11/20\n",
            "54000/54000 [==============================] - 2s 40us/step - loss: 0.0103 - accuracy: 0.9964 - val_loss: 0.0309 - val_accuracy: 0.9920\n",
            "Epoch 12/20\n",
            "54000/54000 [==============================] - 2s 40us/step - loss: 0.0096 - accuracy: 0.9968 - val_loss: 0.0376 - val_accuracy: 0.9927\n",
            "Epoch 13/20\n",
            "54000/54000 [==============================] - 2s 40us/step - loss: 0.0079 - accuracy: 0.9973 - val_loss: 0.0431 - val_accuracy: 0.9890\n",
            "Epoch 14/20\n",
            "54000/54000 [==============================] - 2s 40us/step - loss: 0.0074 - accuracy: 0.9973 - val_loss: 0.0484 - val_accuracy: 0.9900\n",
            "Epoch 15/20\n",
            "54000/54000 [==============================] - 2s 40us/step - loss: 0.0070 - accuracy: 0.9977 - val_loss: 0.0371 - val_accuracy: 0.9915\n",
            "Epoch 16/20\n",
            "54000/54000 [==============================] - 2s 41us/step - loss: 0.0060 - accuracy: 0.9979 - val_loss: 0.0510 - val_accuracy: 0.9885\n",
            "Epoch 17/20\n",
            "54000/54000 [==============================] - 2s 40us/step - loss: 0.0057 - accuracy: 0.9980 - val_loss: 0.0411 - val_accuracy: 0.9920\n",
            "Epoch 18/20\n",
            "54000/54000 [==============================] - 2s 41us/step - loss: 0.0070 - accuracy: 0.9975 - val_loss: 0.0420 - val_accuracy: 0.9927\n",
            "Epoch 19/20\n",
            "54000/54000 [==============================] - 2s 41us/step - loss: 0.0033 - accuracy: 0.9988 - val_loss: 0.0445 - val_accuracy: 0.9913\n",
            "Epoch 20/20\n",
            "54000/54000 [==============================] - 2s 41us/step - loss: 0.0044 - accuracy: 0.9985 - val_loss: 0.0415 - val_accuracy: 0.9925\n"
          ],
          "name": "stdout"
        }
      ]
    },
    {
      "cell_type": "code",
      "metadata": {
        "id": "mc3jLTvc_qLq",
        "colab_type": "code",
        "outputId": "43d0cde6-263b-4f9e-b46a-17ae5b20ed8f",
        "colab": {
          "base_uri": "https://localhost:8080/",
          "height": 54
        }
      },
      "source": [
        "model.evaluate(XTest,YTest)"
      ],
      "execution_count": 8,
      "outputs": [
        {
          "output_type": "stream",
          "text": [
            "10000/10000 [==============================] - 1s 58us/step\n"
          ],
          "name": "stdout"
        },
        {
          "output_type": "execute_result",
          "data": {
            "text/plain": [
              "[0.032421296362171066, 0.992900013923645]"
            ]
          },
          "metadata": {
            "tags": []
          },
          "execution_count": 8
        }
      ]
    },
    {
      "cell_type": "code",
      "metadata": {
        "id": "ddd_9kz8A9Ti",
        "colab_type": "code",
        "colab": {}
      },
      "source": [
        ""
      ],
      "execution_count": 0,
      "outputs": []
    }
  ]
}